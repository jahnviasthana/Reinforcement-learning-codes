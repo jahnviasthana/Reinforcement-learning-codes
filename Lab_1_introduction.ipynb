{
  "nbformat": 4,
  "nbformat_minor": 0,
  "metadata": {
    "colab": {
      "provenance": [],
      "authorship_tag": "ABX9TyMPXJ89V0xIOZeAqewDG7tr",
      "include_colab_link": true
    },
    "kernelspec": {
      "name": "python3",
      "display_name": "Python 3"
    },
    "language_info": {
      "name": "python"
    }
  },
  "cells": [
    {
      "cell_type": "markdown",
      "metadata": {
        "id": "view-in-github",
        "colab_type": "text"
      },
      "source": [
        "<a href=\"https://colab.research.google.com/github/jahnviasthana/Reinforcement-learning-codes/blob/main/Lab_1_introduction.ipynb\" target=\"_parent\"><img src=\"https://colab.research.google.com/assets/colab-badge.svg\" alt=\"Open In Colab\"/></a>"
      ]
    },
    {
      "cell_type": "code",
      "execution_count": 2,
      "metadata": {
        "colab": {
          "base_uri": "https://localhost:8080/"
        },
        "id": "mr3EA0tDbag0",
        "outputId": "5c978841-b9fb-4d44-acab-a0f0b4da7ccd"
      },
      "outputs": [
        {
          "output_type": "stream",
          "name": "stdout",
          "text": [
            "Python 3.10.6\n"
          ]
        }
      ],
      "source": [
        "!python --version\n"
      ]
    },
    {
      "cell_type": "code",
      "source": [
        "x = 3\n",
        "print(x)\n",
        "print(x, type(x))"
      ],
      "metadata": {
        "colab": {
          "base_uri": "https://localhost:8080/"
        },
        "id": "fCrChH4adnhm",
        "outputId": "6a31ff20-ff07-4d42-d79f-f367931f4091"
      },
      "execution_count": 5,
      "outputs": [
        {
          "output_type": "stream",
          "name": "stdout",
          "text": [
            "3\n",
            "3 <class 'int'>\n"
          ]
        }
      ]
    },
    {
      "cell_type": "code",
      "source": [
        "print(x+1)\n",
        "print(x-1)\n",
        "print(x*2)\n",
        "print(x**2)\n",
        "x += 1\n",
        "\n"
      ],
      "metadata": {
        "colab": {
          "base_uri": "https://localhost:8080/"
        },
        "id": "lOOuNxYYd1er",
        "outputId": "aeb9e646-5e32-4fb3-f6db-ce4f2426438c"
      },
      "execution_count": 11,
      "outputs": [
        {
          "output_type": "stream",
          "name": "stdout",
          "text": [
            "6\n",
            "4\n",
            "10\n",
            "25\n"
          ]
        }
      ]
    },
    {
      "cell_type": "code",
      "source": [
        "t = True\n",
        "f = False\n",
        "print(type(t))\n",
        "print(t and f)\n",
        "print(t or f)\n",
        "print(not t)\n",
        "print(t  !=f)\n",
        "\n"
      ],
      "metadata": {
        "colab": {
          "base_uri": "https://localhost:8080/"
        },
        "id": "QIRvXH_7ez3X",
        "outputId": "70fe6ec9-55ad-4e53-ad1d-63f39f8979c7"
      },
      "execution_count": 15,
      "outputs": [
        {
          "output_type": "stream",
          "name": "stdout",
          "text": [
            "<class 'bool'>\n",
            "False\n",
            "True\n",
            "False\n",
            "True\n"
          ]
        }
      ]
    },
    {
      "cell_type": "code",
      "source": [
        "s = \"hello\"\n",
        "print(s.capitalize())\n",
        "print(s.upper())\n",
        "print(s.rjust(7))\n",
        "print(s.center(7))\n",
        "print(s.replace( '1','(ell)'))\n",
        "print(len(s))\n",
        "print(' world ' .strip())"
      ],
      "metadata": {
        "colab": {
          "base_uri": "https://localhost:8080/"
        },
        "id": "rEpuoHGagQe3",
        "outputId": "3fa0491f-66b5-4e6f-b606-0486f25086b7"
      },
      "execution_count": 24,
      "outputs": [
        {
          "output_type": "stream",
          "name": "stdout",
          "text": [
            "Hello\n",
            "HELLO\n",
            "  hello\n",
            " hello \n",
            "hello\n",
            "5\n",
            "world\n"
          ]
        }
      ]
    },
    {
      "cell_type": "code",
      "source": [
        "hw12 = '{} {} {}'.format(\"hello\" , \"world\", 12) # string formatting\n",
        "print(hw12)"
      ],
      "metadata": {
        "colab": {
          "base_uri": "https://localhost:8080/"
        },
        "id": "jrDO3fqrhYWe",
        "outputId": "9ced620d-70dc-478b-9248-e5b2d6f73185"
      },
      "execution_count": 23,
      "outputs": [
        {
          "output_type": "stream",
          "name": "stdout",
          "text": [
            "hello world 12\n"
          ]
        }
      ]
    },
    {
      "cell_type": "code",
      "source": [
        "xs = [3 , 1, 2]\n",
        "print(xs, xs[2])\n",
        "print(xs[-1])\n",
        "xs[2] = 'foo'\n",
        "print(xs)\n",
        "xs.append('bar')\n",
        "print(xs)\n",
        "x = xs.pop()\n",
        "print(x, xs)"
      ],
      "metadata": {
        "colab": {
          "base_uri": "https://localhost:8080/"
        },
        "id": "_vXzfNZvj9av",
        "outputId": "9802c001-5bf3-4ed0-8b23-774c29ca5a2f"
      },
      "execution_count": 25,
      "outputs": [
        {
          "output_type": "stream",
          "name": "stdout",
          "text": [
            "[3, 1, 2] 2\n",
            "2\n",
            "[3, 1, 'foo']\n",
            "[3, 1, 'foo', 'bar']\n",
            "bar [3, 1, 'foo']\n"
          ]
        }
      ]
    },
    {
      "cell_type": "code",
      "source": [
        "nums = list(range(5))\n",
        "print(nums)\n",
        "print(nums[2:4])\n",
        "print(nums[2:])\n",
        "print(nums [2:])\n",
        "print(nums[:-1])\n",
        "nums[2:4] = [8, 9]\n",
        "print(nums)\n",
        "print(nums[:])\n"
      ],
      "metadata": {
        "colab": {
          "base_uri": "https://localhost:8080/"
        },
        "id": "lNe26vyjkw3Z",
        "outputId": "95fd05a7-1e5d-4c11-ed60-0e8c254fe94e"
      },
      "execution_count": 30,
      "outputs": [
        {
          "output_type": "stream",
          "name": "stdout",
          "text": [
            "[0, 1, 2, 3, 4]\n",
            "[2, 3]\n",
            "[2, 3, 4]\n",
            "[2, 3, 4]\n",
            "[0, 1, 2, 3]\n",
            "[0, 1, 8, 9, 4]\n",
            "[0, 1, 8, 9, 4]\n"
          ]
        }
      ]
    },
    {
      "cell_type": "code",
      "source": [
        "animals = ['cat' , 'dog' , 'monkey']\n",
        "for animal in animals:\n",
        "  print(animal)"
      ],
      "metadata": {
        "colab": {
          "base_uri": "https://localhost:8080/"
        },
        "id": "hV7LdxIOmJox",
        "outputId": "e7e9f5bf-531b-4eb9-e83b-52048763c784"
      },
      "execution_count": 31,
      "outputs": [
        {
          "output_type": "stream",
          "name": "stdout",
          "text": [
            "cat\n",
            "dog\n",
            "monkey\n"
          ]
        }
      ]
    },
    {
      "cell_type": "code",
      "source": [
        "animals = ['cat' , 'dog' , 'monkey']\n",
        "for idx, animal in enumerate(animals):\n",
        "  print('#{}  {}' .format (idx + 1, animal))"
      ],
      "metadata": {
        "colab": {
          "base_uri": "https://localhost:8080/"
        },
        "id": "MCM8Odj2mbSB",
        "outputId": "2433983b-8ad0-4d66-f005-5c96107af15b"
      },
      "execution_count": 34,
      "outputs": [
        {
          "output_type": "stream",
          "name": "stdout",
          "text": [
            "#1  cat\n",
            "#2  dog\n",
            "#3  monkey\n"
          ]
        }
      ]
    },
    {
      "cell_type": "code",
      "source": [
        "nums = list(range(10))\n",
        "square = []\n",
        "print(nums)\n",
        "for n in nums:\n",
        "  square.append(n**2)\n",
        "print(square)\n",
        "\n"
      ],
      "metadata": {
        "colab": {
          "base_uri": "https://localhost:8080/"
        },
        "id": "-DnAhByBnsnF",
        "outputId": "4127062c-d24a-460c-a656-d64f8e157943"
      },
      "execution_count": 40,
      "outputs": [
        {
          "output_type": "stream",
          "name": "stdout",
          "text": [
            "[0, 1, 2, 3, 4, 5, 6, 7, 8, 9]\n",
            "[0, 1, 4, 9, 16, 25, 36, 49, 64, 81]\n"
          ]
        }
      ]
    },
    {
      "cell_type": "code",
      "source": [
        "nums = [0, 1, 2, 3, 4, 5]\n",
        "square = [x ** 2 for x in nums if x % 2 == 0]\n",
        "print(square)"
      ],
      "metadata": {
        "colab": {
          "base_uri": "https://localhost:8080/"
        },
        "id": "gR-lQwTVpY9h",
        "outputId": "f46c78ad-2bb2-44bb-ad56-39bf29276829"
      },
      "execution_count": 42,
      "outputs": [
        {
          "output_type": "stream",
          "name": "stdout",
          "text": [
            "[0, 4, 16]\n"
          ]
        }
      ]
    },
    {
      "cell_type": "code",
      "source": [
        "def sign(x):\n",
        "  if x > 0:\n",
        "    return 'positive'\n",
        "  elif x < 0:\n",
        "    return 'negative'\n",
        "  else:\n",
        "    return 'zero'\n",
        "\n",
        "  for x in [-1,0,1]:\n",
        "    print(sign(x))"
      ],
      "metadata": {
        "id": "69kU51zIrD5P"
      },
      "execution_count": 44,
      "outputs": []
    },
    {
      "cell_type": "code",
      "source": [
        "import numpy as np\n",
        "a = np.array([1, 2, 3])\n",
        "print(type(a))\n",
        "print(a.shape)\n",
        "print(a[0], a[1], a[2])\n",
        "a[0] = 5\n",
        "print(a)"
      ],
      "metadata": {
        "colab": {
          "base_uri": "https://localhost:8080/"
        },
        "id": "Rzku3yx4rtEB",
        "outputId": "cf786e4c-d759-45ca-c97f-dc3b2186a41c"
      },
      "execution_count": 46,
      "outputs": [
        {
          "output_type": "stream",
          "name": "stdout",
          "text": [
            "<class 'numpy.ndarray'>\n",
            "(3,)\n",
            "1 2 3\n",
            "[5 2 3]\n"
          ]
        }
      ]
    }
  ]
}