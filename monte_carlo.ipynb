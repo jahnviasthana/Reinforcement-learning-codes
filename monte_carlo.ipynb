{
  "nbformat": 4,
  "nbformat_minor": 0,
  "metadata": {
    "colab": {
      "provenance": [],
      "authorship_tag": "ABX9TyOwog1wKXv5QK87GWmmohaT",
      "include_colab_link": true
    },
    "kernelspec": {
      "name": "python3",
      "display_name": "Python 3"
    },
    "language_info": {
      "name": "python"
    }
  },
  "cells": [
    {
      "cell_type": "markdown",
      "metadata": {
        "id": "view-in-github",
        "colab_type": "text"
      },
      "source": [
        "<a href=\"https://colab.research.google.com/github/jahnviasthana/Reinforcement-learning-codes/blob/main/monte_carlo.ipynb\" target=\"_parent\"><img src=\"https://colab.research.google.com/assets/colab-badge.svg\" alt=\"Open In Colab\"/></a>"
      ]
    },
    {
      "cell_type": "code",
      "execution_count": 1,
      "metadata": {
        "colab": {
          "base_uri": "https://localhost:8080/"
        },
        "id": "2O44kMeCrrs4",
        "outputId": "52282f16-5e5f-4d94-cb18-3585f863b254"
      },
      "outputs": [
        {
          "output_type": "stream",
          "name": "stdout",
          "text": [
            "Estimated State-Action Values:\n",
            "[[0.69333333 0.88028169]\n",
            " [0.75982533 0.93307087]\n",
            " [0.8425656  0.97450425]\n",
            " [0.91972477 1.        ]\n",
            " [1.         0.76767677]]\n"
          ]
        }
      ],
      "source": [
        "import numpy as np\n",
        "import random\n",
        "\n",
        "# Define the environment\n",
        "num_states = 5\n",
        "num_actions = 2\n",
        "\n",
        "# Initialize the state-action values\n",
        "Q = np.zeros((num_states, num_actions))\n",
        "\n",
        "# Define a simple policy (random policy for illustration)\n",
        "def policy(state):\n",
        "    return random.choice(range(num_actions))\n",
        "\n",
        "# Generate a sample episode using the policy\n",
        "def generate_episode():\n",
        "    episode = []\n",
        "    state = random.randint(0, num_states - 1)\n",
        "    for _ in range(10):  # Assume a maximum episode length of 10 for simplicity\n",
        "        action = policy(state)\n",
        "        next_state = (state + action) % num_states  # Transition function (a simple example)\n",
        "        reward = 1 if next_state == num_states - 1 else 0  # Reward function (1 for goal state, 0 otherwise)\n",
        "        episode.append((state, action, reward))\n",
        "        state = next_state\n",
        "        if state == num_states - 1:  # Goal state reached\n",
        "            break\n",
        "    return episode\n",
        "\n",
        "# Perform first-visit Monte Carlo policy evaluation\n",
        "num_episodes = 1000\n",
        "\n",
        "returns_sum = np.zeros_like(Q)\n",
        "returns_count = np.zeros_like(Q)\n",
        "\n",
        "for _ in range(num_episodes):\n",
        "    episode = generate_episode()\n",
        "    visited_states = set()\n",
        "\n",
        "    for t, (state, action, reward) in enumerate(episode):\n",
        "        # Check if the state is visited for the first time in this episode\n",
        "        if state not in visited_states:\n",
        "            visited_states.add(state)\n",
        "            # Calculate the return from this state onwards\n",
        "            G_t = sum([step[2] for step in episode[t:]])\n",
        "            returns_sum[state, action] += G_t\n",
        "            returns_count[state, action] += 1\n",
        "            Q[state, action] = returns_sum[state, action] / returns_count[state, action]\n",
        "\n",
        "# Print the estimated state-action values\n",
        "print(\"Estimated State-Action Values:\")\n",
        "print(Q)\n"
      ]
    }
  ]
}