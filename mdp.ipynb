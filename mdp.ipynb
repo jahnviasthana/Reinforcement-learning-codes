{
  "nbformat": 4,
  "nbformat_minor": 0,
  "metadata": {
    "colab": {
      "provenance": [],
      "authorship_tag": "ABX9TyPJdDsyoAppFpsP/dKnlbA+",
      "include_colab_link": true
    },
    "kernelspec": {
      "name": "python3",
      "display_name": "Python 3"
    },
    "language_info": {
      "name": "python"
    }
  },
  "cells": [
    {
      "cell_type": "markdown",
      "metadata": {
        "id": "view-in-github",
        "colab_type": "text"
      },
      "source": [
        "<a href=\"https://colab.research.google.com/github/jahnviasthana/Reinforcement-learning-codes/blob/main/mdp.ipynb\" target=\"_parent\"><img src=\"https://colab.research.google.com/assets/colab-badge.svg\" alt=\"Open In Colab\"/></a>"
      ]
    },
    {
      "cell_type": "code",
      "execution_count": 3,
      "metadata": {
        "colab": {
          "base_uri": "https://localhost:8080/"
        },
        "id": "0vciPGSF-OWC",
        "outputId": "c52fb921-eb93-447a-fde7-bfeea660bf9d"
      },
      "outputs": [
        {
          "output_type": "stream",
          "name": "stdout",
          "text": [
            "Converged after 1 iterations.\n",
            "Optimal Policy:\n",
            "[[0. 1.]\n",
            " [1. 0.]\n",
            " [0. 1.]]\n",
            "Optimal Value Function:\n",
            "[13.77692761 14.33070472 13.54330336]\n"
          ]
        }
      ],
      "source": [
        "import numpy as np\n",
        "\n",
        "\n",
        "num_states = 3\n",
        "num_actions = 2\n",
        "discount_factor = 0.9\n",
        "transition_probs = np.array([\n",
        "    [[0.7, 0.3, 0.0], [0.1, 0.8, 0.1]],\n",
        "    [[0.0, 0.2, 0.8], [0.4, 0.4, 0.2]],\n",
        "    [[0.4, 0.6, 0.0], [0.0, 0.5, 0.5]]\n",
        "])\n",
        "\n",
        "\n",
        "rewards = np.array([\n",
        "    [-1, 1],\n",
        "    [2, -1],\n",
        "    [0, 1]\n",
        "])\n",
        "policy = np.ones((num_states, num_actions)) / num_actions\n",
        "\n",
        "\n",
        "def policy_evaluation(policy, transition_probs, rewards, discount_factor, num_iterations=100):\n",
        "    value_function = np.zeros(num_states)\n",
        "\n",
        "    for _ in range(num_iterations):\n",
        "        for state in range(num_states):\n",
        "            value_function[state] = sum(\n",
        "                policy[state, action] * (rewards[state, action] +\n",
        "                                         discount_factor * sum(value_function[next_state] * transition_probs[state, action, next_state]\n",
        "                                                              for next_state in range(num_states)))\n",
        "                for action in range(num_actions)\n",
        "            )\n",
        "\n",
        "    return value_function\n",
        "\n",
        "\n",
        "def policy_improvement(value_function, transition_probs, rewards, discount_factor):\n",
        "    new_policy = np.zeros_like(policy)\n",
        "\n",
        "    for state in range(num_states):\n",
        "        q_values = np.zeros(num_actions)\n",
        "\n",
        "        for action in range(num_actions):\n",
        "            q_values[action] = rewards[state, action] + discount_factor * sum(value_function[next_state] * transition_probs[state, action, next_state]\n",
        "                                                                             for next_state in range(num_states))\n",
        "\n",
        "        best_action = np.argmax(q_values)\n",
        "        new_policy[state, best_action] = 1.0\n",
        "\n",
        "    return new_policy\n",
        "\n",
        "\n",
        "for i in range(10):\n",
        "    value_function = policy_evaluation(policy, transition_probs, rewards, discount_factor)\n",
        "    new_policy = policy_improvement(value_function, transition_probs, rewards, discount_factor)\n",
        "\n",
        "    if np.array_equal(policy, new_policy):\n",
        "        print(f\"Converged after {i} iterations.\")\n",
        "        break\n",
        "\n",
        "    policy = new_policy\n",
        "\n",
        "print(\"Optimal Policy:\")\n",
        "print(policy)\n",
        "print(\"Optimal Value Function:\")\n",
        "print(value_function)\n"
      ]
    }
  ]
}