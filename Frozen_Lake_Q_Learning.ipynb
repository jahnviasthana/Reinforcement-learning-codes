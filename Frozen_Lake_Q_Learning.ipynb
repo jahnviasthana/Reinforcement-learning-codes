{
  "cells": [
    {
      "cell_type": "markdown",
      "metadata": {
        "id": "view-in-github",
        "colab_type": "text"
      },
      "source": [
        "<a href=\"https://colab.research.google.com/github/jahnviasthana/Reinforcement-learning-codes/blob/main/Frozen_Lake_Q_Learning.ipynb\" target=\"_parent\"><img src=\"https://colab.research.google.com/assets/colab-badge.svg\" alt=\"Open In Colab\"/></a>"
      ]
    },
    {
      "cell_type": "code",
      "execution_count": 1,
      "metadata": {
        "id": "eVWOESiJvybw"
      },
      "outputs": [],
      "source": [
        "import gym\n",
        "import numpy as np\n",
        "import random"
      ]
    },
    {
      "cell_type": "code",
      "execution_count": 3,
      "metadata": {
        "colab": {
          "base_uri": "https://localhost:8080/"
        },
        "id": "DHSb_Krrv7nn",
        "outputId": "d33882c8-3c05-46d3-c170-2007c785f63e"
      },
      "outputs": [
        {
          "output_type": "stream",
          "name": "stderr",
          "text": [
            "/usr/local/lib/python3.10/dist-packages/gym/core.py:317: DeprecationWarning: \u001b[33mWARN: Initializing wrapper in old step API which returns one bool instead of two. It is recommended to set `new_step_api=True` to use new step API. This will be the default behaviour in future.\u001b[0m\n",
            "  deprecation(\n",
            "/usr/local/lib/python3.10/dist-packages/gym/wrappers/step_api_compatibility.py:39: DeprecationWarning: \u001b[33mWARN: Initializing environment in old step API which returns one bool instead of two. It is recommended to set `new_step_api=True` to use new step API. This will be the default behaviour in future.\u001b[0m\n",
            "  deprecation(\n"
          ]
        }
      ],
      "source": [
        "env = gym.make('FrozenLake-v1', is_slippery=False)"
      ]
    },
    {
      "cell_type": "code",
      "execution_count": 4,
      "metadata": {
        "id": "nPqNl3kdwOGB"
      },
      "outputs": [],
      "source": [
        "action_space_size=env.action_space.n"
      ]
    },
    {
      "cell_type": "code",
      "execution_count": 5,
      "metadata": {
        "colab": {
          "base_uri": "https://localhost:8080/"
        },
        "id": "XQZ4SR-0wdNe",
        "outputId": "f669bde7-e0fb-4fc8-f3f8-e73cdc976aa0"
      },
      "outputs": [
        {
          "output_type": "execute_result",
          "data": {
            "text/plain": [
              "4"
            ]
          },
          "metadata": {},
          "execution_count": 5
        }
      ],
      "source": [
        "action_space_size"
      ]
    },
    {
      "cell_type": "code",
      "execution_count": 6,
      "metadata": {
        "colab": {
          "base_uri": "https://localhost:8080/"
        },
        "id": "XgJq2Knjwqlv",
        "outputId": "779d4509-f101-4790-82ea-9829d7ec298f"
      },
      "outputs": [
        {
          "output_type": "execute_result",
          "data": {
            "text/plain": [
              "16"
            ]
          },
          "metadata": {},
          "execution_count": 6
        }
      ],
      "source": [
        "state_space_size=env.observation_space.n\n",
        "state_space_size"
      ]
    },
    {
      "cell_type": "code",
      "execution_count": 7,
      "metadata": {
        "colab": {
          "base_uri": "https://localhost:8080/"
        },
        "id": "L65nexltxaje",
        "outputId": "c4a59ab9-0a05-4a47-d7e2-6591554e9c1f"
      },
      "outputs": [
        {
          "output_type": "execute_result",
          "data": {
            "text/plain": [
              "array([[0., 0., 0., 0.],\n",
              "       [0., 0., 0., 0.],\n",
              "       [0., 0., 0., 0.],\n",
              "       [0., 0., 0., 0.],\n",
              "       [0., 0., 0., 0.],\n",
              "       [0., 0., 0., 0.],\n",
              "       [0., 0., 0., 0.],\n",
              "       [0., 0., 0., 0.],\n",
              "       [0., 0., 0., 0.],\n",
              "       [0., 0., 0., 0.],\n",
              "       [0., 0., 0., 0.],\n",
              "       [0., 0., 0., 0.],\n",
              "       [0., 0., 0., 0.],\n",
              "       [0., 0., 0., 0.],\n",
              "       [0., 0., 0., 0.],\n",
              "       [0., 0., 0., 0.]])"
            ]
          },
          "metadata": {},
          "execution_count": 7
        }
      ],
      "source": [
        "qtable=np.zeros((state_space_size, action_space_size))\n",
        "qtable"
      ]
    },
    {
      "cell_type": "code",
      "execution_count": 8,
      "metadata": {
        "colab": {
          "base_uri": "https://localhost:8080/"
        },
        "id": "Mwx0NiUByd_4",
        "outputId": "72f24088-c3ed-4d19-b32c-d4749b086c43"
      },
      "outputs": [
        {
          "output_type": "stream",
          "name": "stdout",
          "text": [
            "Score: 0.8751\n"
          ]
        }
      ],
      "source": [
        "#hyperparameters\n",
        "total_episodes=10000\n",
        "learning_rate=0.2\n",
        "max_steps=100\n",
        "gamma=0.99\n",
        "\n",
        "epsilon=1\n",
        "max_epsilon=1\n",
        "min_epsilon=.01\n",
        "decay_rate=0.001\n",
        "\n",
        "\n",
        "rewards=[]\n",
        "for episode in range(total_episodes):\n",
        "  state=env.reset()\n",
        "  step=0\n",
        "  done=False\n",
        "  total_rewards=0\n",
        "\n",
        "  for step in range(max_steps):\n",
        "    if random.uniform(0,1)>epsilon:\n",
        "      action=np.argmax(qtable[state,:]) #exploitation\n",
        "    else:\n",
        "      action=env.action_space.sample() # Exploration\n",
        "\n",
        "    new_state, reward, done, info =env.step(action)\n",
        "    max_new_state=np.max(qtable[new_state,:])\n",
        "    qtable[state,action] = qtable[state,action] + learning_rate*(reward+gamma*max_new_state-qtable[state,action])\n",
        "\n",
        "    total_rewards+= reward\n",
        "    state= new_state\n",
        "\n",
        "    if done:\n",
        "      break\n",
        "\n",
        "  epsilon = min_epsilon + (max_epsilon - min_epsilon)*np.exp(-decay_rate*episode)\n",
        "  rewards.append(total_rewards)\n",
        "\n",
        "print (\"Score:\", str(sum(rewards)/total_episodes))"
      ]
    }
  ],
  "metadata": {
    "colab": {
      "provenance": [],
      "include_colab_link": true
    },
    "kernelspec": {
      "display_name": "Python 3",
      "name": "python3"
    },
    "language_info": {
      "name": "python",
      "version": "3.11.5"
    }
  },
  "nbformat": 4,
  "nbformat_minor": 0
}